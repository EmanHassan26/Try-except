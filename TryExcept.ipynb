{
 "cells": [
  {
   "cell_type": "code",
   "execution_count": 7,
   "metadata": {},
   "outputs": [
    {
     "name": "stdout",
     "output_type": "stream",
     "text": [
      "C:\\Users\\ascom\\Pythonselfstudy\n",
      "Entre Ur file name\n",
      "U have only 5\n",
      "Ur file => C:\\Users\\ascom\\Pythonselfstudy\\Test.txt\n",
      "\n",
      "File Closed\n"
     ]
    }
   ],
   "source": [
    "import os\n",
    "print(os.getcwd())\n",
    "\n",
    "#'''Don't Forget (txt) 8yboba >3 << C:\\Users\\ascom\\Pythonselfstudy\\Test.txt >> '''\n",
    "\n",
    "fle = None\n",
    "numtry = 5\n",
    "while numtry > 0:\n",
    "    try:\n",
    "        print(\"Entre Ur file name\")\n",
    "        print(f\"U have only {numtry}\")\n",
    "        filepath=input(\"Ur file => \").strip()\n",
    "        fle = open(filepath , \"r\")\n",
    "        print(fle.read())\n",
    "        break\n",
    "    except FileNotFoundError :\n",
    "        print(\"File Not Found Plz check the name again \")\n",
    "        numtry = numtry - 1\n",
    "    except :\n",
    "        print(\"Error Hapean\")\n",
    "    finally :\n",
    "        fle.close()\n",
    "        print(\"File Closed\")\n",
    "else :\n",
    "        print(\"Opps! U have No Tries\")"
   ]
  },
  {
   "cell_type": "code",
   "execution_count": null,
   "metadata": {},
   "outputs": [],
   "source": []
  },
  {
   "cell_type": "code",
   "execution_count": null,
   "metadata": {},
   "outputs": [],
   "source": []
  }
 ],
 "metadata": {
  "kernelspec": {
   "display_name": "Python 3",
   "language": "python",
   "name": "python3"
  },
  "language_info": {
   "codemirror_mode": {
    "name": "ipython",
    "version": 3
   },
   "file_extension": ".py",
   "mimetype": "text/x-python",
   "name": "python",
   "nbconvert_exporter": "python",
   "pygments_lexer": "ipython3",
   "version": "3.7.4"
  }
 },
 "nbformat": 4,
 "nbformat_minor": 2
}
